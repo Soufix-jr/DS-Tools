{
 "cells": [
  {
   "cell_type": "markdown",
   "id": "374f5af4-2733-45be-a4de-52b6988f6772",
   "metadata": {},
   "source": [
    "# Data Science Tools and Ecosystem"
   ]
  },
  {
   "cell_type": "markdown",
   "id": "53780ad7-e75a-4a1a-9581-3a3ad6fa4b05",
   "metadata": {},
   "source": [
    "In this notebook, Data Science Tools and Ecosystem are summarized"
   ]
  },
  {
   "cell_type": "markdown",
   "id": "c0d2d9ae-6e08-48d3-acd9-72e39de3dfac",
   "metadata": {},
   "source": [
    "Objectives:\n",
    "\n",
    "- List popular languages for Data Science  \n",
    "- Identify commonly used libraries in Data Science  \n",
    "- Create and format Markdown cells in a Jupyter notebook  \n",
    "- Write and evaluate arithmetic expressions in Python  \n"
   ]
  },
  {
   "cell_type": "markdown",
   "id": "c9bd0c91-79ee-4e57-b7b1-a4755112cc8b",
   "metadata": {},
   "source": [
    "Some of the popular languages that Data Scientists use are:\n",
    "1. Python  \n",
    "2. R  \n",
    "3. SQL\n"
   ]
  },
  {
   "cell_type": "markdown",
   "id": "dfa1a44e-9348-40af-ab53-a63ec6855088",
   "metadata": {},
   "source": [
    "Some of the commonly used libraries used by Data Scientists include: \n",
    "1. Pandas \n",
    "2. Seaborn \n",
    "3. NumPy\n"
   ]
  },
  {
   "cell_type": "markdown",
   "id": "72df9afb-fbbe-4884-b598-bca8eb21d6a6",
   "metadata": {},
   "source": [
    "Some of the popular languages that Data Scientists use are:\n",
    "Pandas\n",
    "Seaborn\n",
    "Numpy\n"
   ]
  },
  {
   "cell_type": "markdown",
   "id": "73c39f14-d469-4bbe-a559-d03dd6279350",
   "metadata": {},
   "source": [
    "| Data Science Tools         |\n",
    "|----------------------------|\n",
    "| Jupyter Notebook           |\n",
    "| RStudio                    |\n",
    "| Apache Zeppelin            |\n"
   ]
  },
  {
   "cell_type": "markdown",
   "id": "6cb4eb71-9bf2-43b8-8fdb-1f4a50d2da3b",
   "metadata": {},
   "source": [
    "### Below are a few examples of evaluating arithmetic expressions in Python.\n"
   ]
  },
  {
   "cell_type": "code",
   "execution_count": 18,
   "id": "03a31aa2-e5e8-4a1d-948a-40da75ac88e8",
   "metadata": {},
   "outputs": [
    {
     "data": {
      "text/plain": [
       "17"
      ]
     },
     "execution_count": 18,
     "metadata": {},
     "output_type": "execute_result"
    }
   ],
   "source": [
    "# This is a simple arithmetic expression to multiply then add integers\n",
    "(3 * 4) + 5\n"
   ]
  },
  {
   "cell_type": "code",
   "execution_count": 20,
   "id": "72cae377-5847-4605-b709-a89ffd55064f",
   "metadata": {},
   "outputs": [
    {
     "data": {
      "text/plain": [
       "3.3333333333333335"
      ]
     },
     "execution_count": 20,
     "metadata": {},
     "output_type": "execute_result"
    }
   ],
   "source": [
    "# This will convert 200 minutes to hours by dividing by 60\n",
    "200 / 60\n"
   ]
  },
  {
   "cell_type": "markdown",
   "id": "d53ecb84-1d6d-49e3-97d8-8edbc3149260",
   "metadata": {},
   "source": [
    "## Author:\n",
    "Oukessou Soufiane"
   ]
  },
  {
   "cell_type": "code",
   "execution_count": null,
   "id": "1883187b-6450-4ebd-b7f0-4fc16a708d55",
   "metadata": {},
   "outputs": [],
   "source": []
  }
 ],
 "metadata": {
  "kernelspec": {
   "display_name": "Python 3 (ipykernel)",
   "language": "python",
   "name": "python3"
  },
  "language_info": {
   "codemirror_mode": {
    "name": "ipython",
    "version": 3
   },
   "file_extension": ".py",
   "mimetype": "text/x-python",
   "name": "python",
   "nbconvert_exporter": "python",
   "pygments_lexer": "ipython3",
   "version": "3.12.7"
  }
 },
 "nbformat": 4,
 "nbformat_minor": 5
}
